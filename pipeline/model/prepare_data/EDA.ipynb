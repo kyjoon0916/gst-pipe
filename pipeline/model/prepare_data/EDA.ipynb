{
 "cells": [
  {
   "cell_type": "markdown",
   "metadata": {},
   "source": [
    "# Deep learning based real-time fire, smoke detection using CCTV images"
   ]
  },
  {
   "cell_type": "code",
   "execution_count": 12,
   "metadata": {},
   "outputs": [],
   "source": [
    "import os\n",
    "\n",
    "import pandas as pd\n",
    "import json\n",
    "import random\n",
    "import matplotlib.pyplot as plt\n",
    "import matplotlib.patches as patches\n",
    "\n",
    "import cv2\n",
    "from PIL import Image\n",
    "from tqdm.notebook import tqdm\n",
    "from detectron2.structures import BoxMode\n",
    "from detectron2.utils.visualizer import Visualizer\n",
    "from detectron2.data import MetadataCatalog, DatasetCatalog\n"
   ]
  },
  {
   "cell_type": "code",
   "execution_count": 13,
   "metadata": {},
   "outputs": [],
   "source": [
    "DATA_DIR = '/media/daitran/Data_HDD/ASK/data/AIHub/Training'\n",
    "IMAGE_DIR = ['/media/daitran/Data_HDD/ASK/data/AIHub/Training/[원천]화재씬',\n",
    "             '/media/daitran/Data_HDD/ASK/data/AIHub/Training/[원천]화재씬_3']\n",
    "LABEL_DIR = '/media/daitran/Data_HDD/ASK/data/AIHub/Training/[라벨]화재씬'"
   ]
  },
  {
   "cell_type": "code",
   "execution_count": 15,
   "metadata": {},
   "outputs": [],
   "source": [
    "def get_image_file_names(IMAGE_DIR):\n",
    "    # function\n",
    "    file_names = os.listdir(IMAGE_DIR)\n",
    "    image_file_names = []\n",
    "    for file_name in tqdm(file_names):\n",
    "        # tiff file\n",
    "        if file_name[-1] == 'g':\n",
    "            image_file_names.append(file_name)\n",
    "        else:\n",
    "            pass    \n",
    "    return image_file_names\n",
    "\n",
    "def get_json_file_names(LABEL_DIR):\n",
    "    file_names = os.listdir(LABEL_DIR)\n",
    "    json_file_names = []\n",
    "    for file_name in tqdm(file_names):\n",
    "        if file_name[-1] == 'n':\n",
    "            json_file_names.append(file_name)\n",
    "        else:\n",
    "            pass    \n",
    "    return json_file_names"
   ]
  },
  {
   "cell_type": "code",
   "execution_count": null,
   "metadata": {},
   "outputs": [],
   "source": []
  },
  {
   "cell_type": "code",
   "execution_count": null,
   "metadata": {},
   "outputs": [],
   "source": []
  },
  {
   "cell_type": "code",
   "execution_count": null,
   "metadata": {},
   "outputs": [],
   "source": []
  },
  {
   "cell_type": "code",
   "execution_count": null,
   "metadata": {},
   "outputs": [],
   "source": []
  }
 ],
 "metadata": {
  "interpreter": {
   "hash": "e3120171a4ffb1a40ae09aeab621465d7e1102d518bef6a856c1063fdc54d435"
  },
  "kernelspec": {
   "display_name": "Python 3.7.11 64-bit ('timm': conda)",
   "name": "python3"
  },
  "language_info": {
   "codemirror_mode": {
    "name": "ipython",
    "version": 3
   },
   "file_extension": ".py",
   "mimetype": "text/x-python",
   "name": "python",
   "nbconvert_exporter": "python",
   "pygments_lexer": "ipython3",
   "version": "3.7.11"
  }
 },
 "nbformat": 4,
 "nbformat_minor": 4
}
