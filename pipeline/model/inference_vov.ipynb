{
 "cells": [
  {
   "cell_type": "code",
   "execution_count": 24,
   "id": "ab45608f-e5d2-4575-abe8-0867c1451de6",
   "metadata": {},
   "outputs": [
    {
     "name": "stdout",
     "output_type": "stream",
     "text": [
      "1.10.0+cu102 True\n"
     ]
    }
   ],
   "source": [
    "# import some common libraries\n",
    "import numpy as np\n",
    "import os, json, cv2, random,sys\n",
    "import matplotlib.pyplot as plt\n",
    "from tqdm import tqdm\n",
    "import pandas as pd\n",
    "\n",
    "import torch, torchvision\n",
    "print(torch.__version__, torch.cuda.is_available())\n",
    "import detectron2\n",
    "from detectron2.utils.logger import setup_logger\n",
    "setup_logger()\n",
    "# import some common detectron2 utilities\n",
    "from detectron2 import model_zoo\n",
    "from detectron2.engine import DefaultPredictor\n",
    "from detectron2.config import get_cfg\n",
    "from detectron2.utils.visualizer import Visualizer\n",
    "from detectron2.data import MetadataCatalog, DatasetCatalog\n",
    "from detectron2.structures import BoxMode\n",
    "from detectron2.utils.visualizer import ColorMode\n",
    "\n",
    "import sys\n",
    "# insert at 1, 0 is the script path (or '' in REPL)\n",
    "sys.path.insert(1, '/home/joon/code/gitpipeline/pipeline/model/utils')\n",
    "import utils\n",
    "\n"
   ]
  },
  {
   "cell_type": "code",
   "execution_count": 16,
   "id": "f99c410b-0e67-4dfa-b889-7bc03fcfa9b6",
   "metadata": {},
   "outputs": [],
   "source": [
    "\n",
    "# import torch\n",
    "# torch.cuda.set_device(1) "
   ]
  },
  {
   "cell_type": "code",
   "execution_count": 21,
   "metadata": {},
   "outputs": [
    {
     "name": "stdout",
     "output_type": "stream",
     "text": [
      "/home/joon/code/gitpipeline/pipeline/model\n"
     ]
    },
    {
     "data": {
      "text/plain": [
       "'.'"
      ]
     },
     "execution_count": 21,
     "metadata": {},
     "output_type": "execute_result"
    }
   ],
   "source": [
    "import pathlib\n",
    "# sys.path.append(os.path.dirname(os.path.abspath(os.path.dirname(__file__))))\n",
    "print(pathlib.Path().absolute())\n",
    "os.path.dirname(\"./\")"
   ]
  },
  {
   "cell_type": "code",
   "execution_count": 3,
   "id": "ae072fa0-5e32-467b-b4b3-cace616d871b",
   "metadata": {},
   "outputs": [],
   "source": [
    "# import os\n",
    "# os.environ[\"CUDA_DEVICE_ORDER\"] = \"PCI_BUS_ID\"\n",
    "# os.environ[\"CUDA_VISIBLE_DEVICES\"] = \"1\""
   ]
  },
  {
   "cell_type": "code",
   "execution_count": 4,
   "id": "0ea503d2-adc3-47c3-9594-68c1767b7666",
   "metadata": {},
   "outputs": [],
   "source": [
    "classes = ['black smoke', 'gray smoke', ' white smoke', 'fire']"
   ]
  },
  {
   "cell_type": "code",
   "execution_count": 5,
   "id": "ec74565e-d7d9-4bd6-8577-2569a5e5c592",
   "metadata": {},
   "outputs": [],
   "source": [
    "# train_df_path = '/media/PCData/dairesearch/code/BigDataproject/forest_fire_real_time_detection/src/prepare_data/train_dfs.csv'\n",
    "# train_df = pd.read_csv(train_df_path)\n",
    "# # train_df.head()"
   ]
  },
  {
   "cell_type": "code",
   "execution_count": 6,
   "id": "b2dea059-a5a7-4f86-8163-a8eaa1ea7d58",
   "metadata": {},
   "outputs": [
    {
     "data": {
      "text/plain": [
       "namespace(name='aihub_train',\n",
       "          thing_classes=['black smoke', 'gray smoke', ' white smoke', 'fire'])"
      ]
     },
     "execution_count": 6,
     "metadata": {},
     "output_type": "execute_result"
    }
   ],
   "source": [
    "from detectron2.data import MetadataCatalog, DatasetCatalog\n",
    "DatasetCatalog.clear()\n",
    "\n",
    "# DatasetCatalog.register(\"aihub_train\", lambda: utils.get_dicts(train_df))\n",
    "MetadataCatalog.get(\"aihub_train\").set(thing_classes = classes)"
   ]
  },
  {
   "cell_type": "code",
   "execution_count": 7,
   "id": "3bb5ba4e-11a9-4d0e-ae43-91812f928cb0",
   "metadata": {},
   "outputs": [],
   "source": [
    "aihub_metadata = MetadataCatalog.get(\"aihub_train\")"
   ]
  },
  {
   "cell_type": "code",
   "execution_count": 23,
   "id": "65f532a5-f9e8-4023-a52e-e8e08aba7934",
   "metadata": {},
   "outputs": [],
   "source": [
    "from detectron2.engine import DefaultTrainer\n",
    "from vovnet import add_vovnet_config\n",
    "\n",
    "cfg = get_cfg()"
   ]
  },
  {
   "cell_type": "code",
   "execution_count": 9,
   "id": "3d4301fd-d949-483e-acb4-0a2d03013cd7",
   "metadata": {},
   "outputs": [
    {
     "name": "stdout",
     "output_type": "stream",
     "text": [
      "Metadata(name='aihub_train', thing_classes=['black smoke', 'gray smoke', ' white smoke', 'fire'])\n"
     ]
    }
   ],
   "source": [
    "\n",
    "from detectron2.utils.visualizer import ColorMode\n",
    "\n",
    "from detectron2.utils.video_visualizer import VideoVisualizer\n",
    "from tqdm import tqdm\n",
    "## Access webcam\n",
    "\n",
    "instance_mode = ColorMode.IMAGE\n",
    "metadata = aihub_metadata\n",
    "\n",
    "print(metadata)"
   ]
  },
  {
   "cell_type": "code",
   "execution_count": 10,
   "id": "6d905186-b2d9-485e-92d7-5205f585407d",
   "metadata": {},
   "outputs": [],
   "source": [
    "# dataset_dicts = utils.get_dicts(train_df)\n"
   ]
  },
  {
   "cell_type": "code",
   "execution_count": 11,
   "id": "7accdcca-cd8e-4c86-b666-41080bc08ef0",
   "metadata": {},
   "outputs": [],
   "source": [
    "from detectron2.engine import DefaultTrainer\n",
    "\n",
    "cfg = get_cfg()\n",
    "add_vovnet_config(cfg)\n",
    "cfg.merge_from_file(\"/home/joon/code/gitpipeline/pipeline/model/weights/FRCN-V2-19-slim-FPNLite-3x/config.yaml\")\n",
    "cfg.DATASETS.TRAIN = (\"aihub_train\")\n",
    "cfg.DATASETS.TEST = ()\n",
    "cfg.DATALOADER.NUM_WORKERS = 36\n",
    "# cfg.MODEL.WEIGHTS = model_zoo.get_checkpoint_url(\"/media/daitran/Data_SSD/code/SmartInsideAI/github/concrete_crack_detection/src/detectron/configs/faster_rcnn_V_19_FPN_3x.yaml\")  # Let training initialize from model zoo\n",
    "cfg.SOLVER.IMS_PER_BATCH = 8\n",
    "cfg.SOLVER.BASE_LR = 0.00025  # pick a good LR\n",
    "cfg.SOLVER.MAX_ITER = 10000    # 300 iterations seems good enough for this toy dataset; you will need to train longer for a practical dataset\n",
    "cfg.SOLVER.STEPS = []        # do not decay learning rate\n",
    "cfg.MODEL.ROI_HEADS.BATCH_SIZE_PER_IMAGE = 512   # faster, and good enough for this toy dataset (default: 512)\n",
    "cfg.MODEL.ROI_HEADS.NUM_CLASSES = len(classes) \n",
    "# NOTE: this config means the number of classes, but a few popular unofficial tutorials incorrect uses num_classes+1 here.\n",
    "\n",
    "# os.makedirs(cfg.OUTPUT_DIR, exist_ok=True)\n",
    "# trainer = DefaultTrainer(cfg) \n",
    "# trainer.resume_or_load(resume=False)\n",
    "# trainer.train()\n",
    "\n",
    "cfg.MODEL.WEIGHTS = os.path.join(\"/home/joon/code/gitpipeline/pipeline/model/weights/FRCN-V2-19-slim-FPNLite-3x/model_final.pth\")\n",
    "cfg.MODEL.ROI_HEADS.SCORE_THRESH_TEST = 0.7   # set a custom testing threshold\n",
    "cfg.DATASETS.TEST = (\"aihub_train\", )\n",
    "predictor = DefaultPredictor(cfg)"
   ]
  },
  {
   "cell_type": "code",
   "execution_count": 12,
   "id": "90e4c555-3382-4da3-959a-80ebbddb4b49",
   "metadata": {},
   "outputs": [],
   "source": [
    "# import time\n",
    "# for d in random.sample(dataset_dicts, 5):  \n",
    "#     # set time\n",
    "    \n",
    "#     im = cv2.imread(d[\"file_name\"])\n",
    "#     print(d['file_name'])\n",
    "#     # start_time = time.clock()   \n",
    "#     outputs = predictor(im)\n",
    "#     # print(\"=========INFERENCE TIME PER IMAGE=========\")\n",
    "#     # print(time.clock() - start_time, \"seconds\")\n",
    "\n",
    "#     v = Visualizer(im[:, :, ::-1],\n",
    "#                    metadata=aihub_metadata, \n",
    "#                    scale=0.8,\n",
    "#                    instance_mode=ColorMode.IMAGE   \n",
    "#     )\n",
    "#     v = v.draw_instance_predictions(outputs[\"instances\"].to(\"cpu\")) #Passing the predictions to CPU from the GPU\n",
    "\n",
    "\n",
    "#     plt.figure(figsize=(10,5))\n",
    "#     plt.imshow(v.get_image())\n",
    "#     plt.show()\n",
    "#     # break\n",
    "#     # plt.pause(2)\n",
    "#     # plt.close()"
   ]
  },
  {
   "cell_type": "code",
   "execution_count": 14,
   "id": "616553e0-f253-421c-a932-25a2da65f4ee",
   "metadata": {},
   "outputs": [
    {
     "name": "stdout",
     "output_type": "stream",
     "text": [
      "Metadata(name='aihub_train', thing_classes=['black smoke', 'gray smoke', ' white smoke', 'fire'])\n"
     ]
    }
   ],
   "source": [
    "cam = cv2.VideoCapture(2)\n",
    "\n",
    "instance_mode = ColorMode.IMAGE\n",
    "metadata = aihub_metadata\n",
    "\n",
    "print(metadata)\n",
    "video_visualizer = VideoVisualizer(metadata, instance_mode)\n",
    "\n",
    "while True:\n",
    "    ret, frame = cam.read()\n",
    "    \n",
    "    # dim = (512, 512)\n",
    "    \n",
    "    frame = cv2.resize(frame, None, fx=2, fy=2, interpolation=cv2.INTER_AREA)\n",
    "\n",
    "    im = frame\n",
    "    outputs = predictor(im)\n",
    "    v = Visualizer(im[:, :, ::-1],\n",
    "                   metadata=aihub_metadata, \n",
    "                   scale=0.8,\n",
    "                   instance_mode=ColorMode.IMAGE   \n",
    "    )\n",
    "    v = v.draw_instance_predictions(outputs[\"instances\"].to(\"cpu\")) #Passing the predictions to CPU from the GPU\n",
    "    vis_frame = cv2.cvtColor(v.get_image(), cv2.COLOR_RGB2BGR)\n",
    "    cv2.imshow('Input', vis_frame)\n",
    "    # cv2.imshow('Input', frame)\n",
    "    \n",
    "    if cv2.waitKey(1)& 0xFF ==ord('q'):\n",
    "        break\n",
    "cam.release()\n",
    "cv2.destroyAllWindows()"
   ]
  },
  {
   "cell_type": "code",
   "execution_count": null,
   "metadata": {},
   "outputs": [],
   "source": []
  }
 ],
 "metadata": {
  "interpreter": {
   "hash": "caaf2f1f905647c36f6ca3a9234120a6ae06107089dd4f5b58e3c3cc1a708d31"
  },
  "kernelspec": {
   "display_name": "Python 3.8.5 64-bit ('test': conda)",
   "name": "python3"
  },
  "language_info": {
   "codemirror_mode": {
    "name": "ipython",
    "version": 3
   },
   "file_extension": ".py",
   "mimetype": "text/x-python",
   "name": "python",
   "nbconvert_exporter": "python",
   "pygments_lexer": "ipython3",
   "version": "3.8.5"
  }
 },
 "nbformat": 4,
 "nbformat_minor": 5
}
